{
  "nbformat": 4,
  "nbformat_minor": 0,
  "metadata": {
    "colab": {
      "provenance": []
    },
    "kernelspec": {
      "name": "python3",
      "display_name": "Python 3"
    },
    "language_info": {
      "name": "python"
    }
  },
  "cells": [
    {
      "cell_type": "code",
      "execution_count": 69,
      "metadata": {
        "id": "BtgOszSAa40K"
      },
      "outputs": [],
      "source": [
        "import numpy as np\n",
        "import pandas as pd\n",
        "import tensorflow as tf\n",
        "from tensorflow.keras.models import Sequential\n",
        "from tensorflow.keras.layers import LSTM, Dense, Dropout\n",
        "from sklearn.preprocessing import MinMaxScaler, LabelEncoder\n",
        "from sklearn.preprocessing import OneHotEncoder\n",
        "from datetime import datetime\n"
      ]
    },
    {
      "cell_type": "code",
      "source": [
        "# Load dataset\n",
        "df = pd.read_csv(\"/content/data_until_2024.csv\")"
      ],
      "metadata": {
        "id": "g225_I8qfZq1"
      },
      "execution_count": 70,
      "outputs": []
    },
    {
      "cell_type": "code",
      "source": [
        "df.head()"
      ],
      "metadata": {
        "colab": {
          "base_uri": "https://localhost:8080/",
          "height": 451
        },
        "id": "ccS6WaKWh1X5",
        "outputId": "31ae1882-6d8c-42ad-ef14-dad7e502d442"
      },
      "execution_count": 73,
      "outputs": [
        {
          "output_type": "execute_result",
          "data": {
            "text/plain": [
              "         Date  Min Temperature  Max Temperature  Average Temperature  \\\n",
              "0  2010-01-01             21.4             30.2                 27.1   \n",
              "1  2010-01-02             21.0             29.6                 25.7   \n",
              "2  2010-01-03             20.2             26.8                 24.5   \n",
              "3  2010-01-04             21.0             29.2                 25.8   \n",
              "4  2010-01-08             21.8             29.8                 26.8   \n",
              "\n",
              "   Average Humidity  Rainfall  Sunshine Duration  Max Wind Speed  \\\n",
              "0              82.0       9.0                0.5             7.0   \n",
              "1              95.0      24.0                0.2             6.0   \n",
              "2              98.0      63.0                0.0             5.0   \n",
              "3              90.0       0.0                0.1             4.0   \n",
              "4              91.0       3.0                0.6             5.0   \n",
              "\n",
              "   Wind Direction at Max Speed  Average Wind Speed Most Wind Direction  \\\n",
              "0                           90                 5.0                  E    \n",
              "1                           90                 4.0                  E    \n",
              "2                           90                 4.0                  E    \n",
              "3                          225                 3.0                  SW   \n",
              "4                           90                 4.0                  E    \n",
              "\n",
              "   station_id                      station_name  region_name  latitude  \\\n",
              "0       96001  Stasiun Meteorologi Maimun Saleh  Kota Sabang   5.87655   \n",
              "1       96001  Stasiun Meteorologi Maimun Saleh  Kota Sabang   5.87655   \n",
              "2       96001  Stasiun Meteorologi Maimun Saleh  Kota Sabang   5.87655   \n",
              "3       96001  Stasiun Meteorologi Maimun Saleh  Kota Sabang   5.87655   \n",
              "4       96001  Stasiun Meteorologi Maimun Saleh  Kota Sabang   5.87655   \n",
              "\n",
              "   longitude  region_id  province_id             province_name Month-Year  \n",
              "0   95.33785         20            1  Nanggroe Aceh Darussalam    01-2010  \n",
              "1   95.33785         20            1  Nanggroe Aceh Darussalam    01-2010  \n",
              "2   95.33785         20            1  Nanggroe Aceh Darussalam    01-2010  \n",
              "3   95.33785         20            1  Nanggroe Aceh Darussalam    01-2010  \n",
              "4   95.33785         20            1  Nanggroe Aceh Darussalam    01-2010  "
            ],
            "text/html": [
              "\n",
              "  <div id=\"df-02e77c17-615a-4c99-af2d-938d640651fe\" class=\"colab-df-container\">\n",
              "    <div>\n",
              "<style scoped>\n",
              "    .dataframe tbody tr th:only-of-type {\n",
              "        vertical-align: middle;\n",
              "    }\n",
              "\n",
              "    .dataframe tbody tr th {\n",
              "        vertical-align: top;\n",
              "    }\n",
              "\n",
              "    .dataframe thead th {\n",
              "        text-align: right;\n",
              "    }\n",
              "</style>\n",
              "<table border=\"1\" class=\"dataframe\">\n",
              "  <thead>\n",
              "    <tr style=\"text-align: right;\">\n",
              "      <th></th>\n",
              "      <th>Date</th>\n",
              "      <th>Min Temperature</th>\n",
              "      <th>Max Temperature</th>\n",
              "      <th>Average Temperature</th>\n",
              "      <th>Average Humidity</th>\n",
              "      <th>Rainfall</th>\n",
              "      <th>Sunshine Duration</th>\n",
              "      <th>Max Wind Speed</th>\n",
              "      <th>Wind Direction at Max Speed</th>\n",
              "      <th>Average Wind Speed</th>\n",
              "      <th>Most Wind Direction</th>\n",
              "      <th>station_id</th>\n",
              "      <th>station_name</th>\n",
              "      <th>region_name</th>\n",
              "      <th>latitude</th>\n",
              "      <th>longitude</th>\n",
              "      <th>region_id</th>\n",
              "      <th>province_id</th>\n",
              "      <th>province_name</th>\n",
              "      <th>Month-Year</th>\n",
              "    </tr>\n",
              "  </thead>\n",
              "  <tbody>\n",
              "    <tr>\n",
              "      <th>0</th>\n",
              "      <td>2010-01-01</td>\n",
              "      <td>21.4</td>\n",
              "      <td>30.2</td>\n",
              "      <td>27.1</td>\n",
              "      <td>82.0</td>\n",
              "      <td>9.0</td>\n",
              "      <td>0.5</td>\n",
              "      <td>7.0</td>\n",
              "      <td>90</td>\n",
              "      <td>5.0</td>\n",
              "      <td>E</td>\n",
              "      <td>96001</td>\n",
              "      <td>Stasiun Meteorologi Maimun Saleh</td>\n",
              "      <td>Kota Sabang</td>\n",
              "      <td>5.87655</td>\n",
              "      <td>95.33785</td>\n",
              "      <td>20</td>\n",
              "      <td>1</td>\n",
              "      <td>Nanggroe Aceh Darussalam</td>\n",
              "      <td>01-2010</td>\n",
              "    </tr>\n",
              "    <tr>\n",
              "      <th>1</th>\n",
              "      <td>2010-01-02</td>\n",
              "      <td>21.0</td>\n",
              "      <td>29.6</td>\n",
              "      <td>25.7</td>\n",
              "      <td>95.0</td>\n",
              "      <td>24.0</td>\n",
              "      <td>0.2</td>\n",
              "      <td>6.0</td>\n",
              "      <td>90</td>\n",
              "      <td>4.0</td>\n",
              "      <td>E</td>\n",
              "      <td>96001</td>\n",
              "      <td>Stasiun Meteorologi Maimun Saleh</td>\n",
              "      <td>Kota Sabang</td>\n",
              "      <td>5.87655</td>\n",
              "      <td>95.33785</td>\n",
              "      <td>20</td>\n",
              "      <td>1</td>\n",
              "      <td>Nanggroe Aceh Darussalam</td>\n",
              "      <td>01-2010</td>\n",
              "    </tr>\n",
              "    <tr>\n",
              "      <th>2</th>\n",
              "      <td>2010-01-03</td>\n",
              "      <td>20.2</td>\n",
              "      <td>26.8</td>\n",
              "      <td>24.5</td>\n",
              "      <td>98.0</td>\n",
              "      <td>63.0</td>\n",
              "      <td>0.0</td>\n",
              "      <td>5.0</td>\n",
              "      <td>90</td>\n",
              "      <td>4.0</td>\n",
              "      <td>E</td>\n",
              "      <td>96001</td>\n",
              "      <td>Stasiun Meteorologi Maimun Saleh</td>\n",
              "      <td>Kota Sabang</td>\n",
              "      <td>5.87655</td>\n",
              "      <td>95.33785</td>\n",
              "      <td>20</td>\n",
              "      <td>1</td>\n",
              "      <td>Nanggroe Aceh Darussalam</td>\n",
              "      <td>01-2010</td>\n",
              "    </tr>\n",
              "    <tr>\n",
              "      <th>3</th>\n",
              "      <td>2010-01-04</td>\n",
              "      <td>21.0</td>\n",
              "      <td>29.2</td>\n",
              "      <td>25.8</td>\n",
              "      <td>90.0</td>\n",
              "      <td>0.0</td>\n",
              "      <td>0.1</td>\n",
              "      <td>4.0</td>\n",
              "      <td>225</td>\n",
              "      <td>3.0</td>\n",
              "      <td>SW</td>\n",
              "      <td>96001</td>\n",
              "      <td>Stasiun Meteorologi Maimun Saleh</td>\n",
              "      <td>Kota Sabang</td>\n",
              "      <td>5.87655</td>\n",
              "      <td>95.33785</td>\n",
              "      <td>20</td>\n",
              "      <td>1</td>\n",
              "      <td>Nanggroe Aceh Darussalam</td>\n",
              "      <td>01-2010</td>\n",
              "    </tr>\n",
              "    <tr>\n",
              "      <th>4</th>\n",
              "      <td>2010-01-08</td>\n",
              "      <td>21.8</td>\n",
              "      <td>29.8</td>\n",
              "      <td>26.8</td>\n",
              "      <td>91.0</td>\n",
              "      <td>3.0</td>\n",
              "      <td>0.6</td>\n",
              "      <td>5.0</td>\n",
              "      <td>90</td>\n",
              "      <td>4.0</td>\n",
              "      <td>E</td>\n",
              "      <td>96001</td>\n",
              "      <td>Stasiun Meteorologi Maimun Saleh</td>\n",
              "      <td>Kota Sabang</td>\n",
              "      <td>5.87655</td>\n",
              "      <td>95.33785</td>\n",
              "      <td>20</td>\n",
              "      <td>1</td>\n",
              "      <td>Nanggroe Aceh Darussalam</td>\n",
              "      <td>01-2010</td>\n",
              "    </tr>\n",
              "  </tbody>\n",
              "</table>\n",
              "</div>\n",
              "    <div class=\"colab-df-buttons\">\n",
              "\n",
              "  <div class=\"colab-df-container\">\n",
              "    <button class=\"colab-df-convert\" onclick=\"convertToInteractive('df-02e77c17-615a-4c99-af2d-938d640651fe')\"\n",
              "            title=\"Convert this dataframe to an interactive table.\"\n",
              "            style=\"display:none;\">\n",
              "\n",
              "  <svg xmlns=\"http://www.w3.org/2000/svg\" height=\"24px\" viewBox=\"0 -960 960 960\">\n",
              "    <path d=\"M120-120v-720h720v720H120Zm60-500h600v-160H180v160Zm220 220h160v-160H400v160Zm0 220h160v-160H400v160ZM180-400h160v-160H180v160Zm440 0h160v-160H620v160ZM180-180h160v-160H180v160Zm440 0h160v-160H620v160Z\"/>\n",
              "  </svg>\n",
              "    </button>\n",
              "\n",
              "  <style>\n",
              "    .colab-df-container {\n",
              "      display:flex;\n",
              "      gap: 12px;\n",
              "    }\n",
              "\n",
              "    .colab-df-convert {\n",
              "      background-color: #E8F0FE;\n",
              "      border: none;\n",
              "      border-radius: 50%;\n",
              "      cursor: pointer;\n",
              "      display: none;\n",
              "      fill: #1967D2;\n",
              "      height: 32px;\n",
              "      padding: 0 0 0 0;\n",
              "      width: 32px;\n",
              "    }\n",
              "\n",
              "    .colab-df-convert:hover {\n",
              "      background-color: #E2EBFA;\n",
              "      box-shadow: 0px 1px 2px rgba(60, 64, 67, 0.3), 0px 1px 3px 1px rgba(60, 64, 67, 0.15);\n",
              "      fill: #174EA6;\n",
              "    }\n",
              "\n",
              "    .colab-df-buttons div {\n",
              "      margin-bottom: 4px;\n",
              "    }\n",
              "\n",
              "    [theme=dark] .colab-df-convert {\n",
              "      background-color: #3B4455;\n",
              "      fill: #D2E3FC;\n",
              "    }\n",
              "\n",
              "    [theme=dark] .colab-df-convert:hover {\n",
              "      background-color: #434B5C;\n",
              "      box-shadow: 0px 1px 3px 1px rgba(0, 0, 0, 0.15);\n",
              "      filter: drop-shadow(0px 1px 2px rgba(0, 0, 0, 0.3));\n",
              "      fill: #FFFFFF;\n",
              "    }\n",
              "  </style>\n",
              "\n",
              "    <script>\n",
              "      const buttonEl =\n",
              "        document.querySelector('#df-02e77c17-615a-4c99-af2d-938d640651fe button.colab-df-convert');\n",
              "      buttonEl.style.display =\n",
              "        google.colab.kernel.accessAllowed ? 'block' : 'none';\n",
              "\n",
              "      async function convertToInteractive(key) {\n",
              "        const element = document.querySelector('#df-02e77c17-615a-4c99-af2d-938d640651fe');\n",
              "        const dataTable =\n",
              "          await google.colab.kernel.invokeFunction('convertToInteractive',\n",
              "                                                    [key], {});\n",
              "        if (!dataTable) return;\n",
              "\n",
              "        const docLinkHtml = 'Like what you see? Visit the ' +\n",
              "          '<a target=\"_blank\" href=https://colab.research.google.com/notebooks/data_table.ipynb>data table notebook</a>'\n",
              "          + ' to learn more about interactive tables.';\n",
              "        element.innerHTML = '';\n",
              "        dataTable['output_type'] = 'display_data';\n",
              "        await google.colab.output.renderOutput(dataTable, element);\n",
              "        const docLink = document.createElement('div');\n",
              "        docLink.innerHTML = docLinkHtml;\n",
              "        element.appendChild(docLink);\n",
              "      }\n",
              "    </script>\n",
              "  </div>\n",
              "\n",
              "\n",
              "<div id=\"df-b608b308-24a5-46e9-afcc-dfff9fa94759\">\n",
              "  <button class=\"colab-df-quickchart\" onclick=\"quickchart('df-b608b308-24a5-46e9-afcc-dfff9fa94759')\"\n",
              "            title=\"Suggest charts\"\n",
              "            style=\"display:none;\">\n",
              "\n",
              "<svg xmlns=\"http://www.w3.org/2000/svg\" height=\"24px\"viewBox=\"0 0 24 24\"\n",
              "     width=\"24px\">\n",
              "    <g>\n",
              "        <path d=\"M19 3H5c-1.1 0-2 .9-2 2v14c0 1.1.9 2 2 2h14c1.1 0 2-.9 2-2V5c0-1.1-.9-2-2-2zM9 17H7v-7h2v7zm4 0h-2V7h2v10zm4 0h-2v-4h2v4z\"/>\n",
              "    </g>\n",
              "</svg>\n",
              "  </button>\n",
              "\n",
              "<style>\n",
              "  .colab-df-quickchart {\n",
              "      --bg-color: #E8F0FE;\n",
              "      --fill-color: #1967D2;\n",
              "      --hover-bg-color: #E2EBFA;\n",
              "      --hover-fill-color: #174EA6;\n",
              "      --disabled-fill-color: #AAA;\n",
              "      --disabled-bg-color: #DDD;\n",
              "  }\n",
              "\n",
              "  [theme=dark] .colab-df-quickchart {\n",
              "      --bg-color: #3B4455;\n",
              "      --fill-color: #D2E3FC;\n",
              "      --hover-bg-color: #434B5C;\n",
              "      --hover-fill-color: #FFFFFF;\n",
              "      --disabled-bg-color: #3B4455;\n",
              "      --disabled-fill-color: #666;\n",
              "  }\n",
              "\n",
              "  .colab-df-quickchart {\n",
              "    background-color: var(--bg-color);\n",
              "    border: none;\n",
              "    border-radius: 50%;\n",
              "    cursor: pointer;\n",
              "    display: none;\n",
              "    fill: var(--fill-color);\n",
              "    height: 32px;\n",
              "    padding: 0;\n",
              "    width: 32px;\n",
              "  }\n",
              "\n",
              "  .colab-df-quickchart:hover {\n",
              "    background-color: var(--hover-bg-color);\n",
              "    box-shadow: 0 1px 2px rgba(60, 64, 67, 0.3), 0 1px 3px 1px rgba(60, 64, 67, 0.15);\n",
              "    fill: var(--button-hover-fill-color);\n",
              "  }\n",
              "\n",
              "  .colab-df-quickchart-complete:disabled,\n",
              "  .colab-df-quickchart-complete:disabled:hover {\n",
              "    background-color: var(--disabled-bg-color);\n",
              "    fill: var(--disabled-fill-color);\n",
              "    box-shadow: none;\n",
              "  }\n",
              "\n",
              "  .colab-df-spinner {\n",
              "    border: 2px solid var(--fill-color);\n",
              "    border-color: transparent;\n",
              "    border-bottom-color: var(--fill-color);\n",
              "    animation:\n",
              "      spin 1s steps(1) infinite;\n",
              "  }\n",
              "\n",
              "  @keyframes spin {\n",
              "    0% {\n",
              "      border-color: transparent;\n",
              "      border-bottom-color: var(--fill-color);\n",
              "      border-left-color: var(--fill-color);\n",
              "    }\n",
              "    20% {\n",
              "      border-color: transparent;\n",
              "      border-left-color: var(--fill-color);\n",
              "      border-top-color: var(--fill-color);\n",
              "    }\n",
              "    30% {\n",
              "      border-color: transparent;\n",
              "      border-left-color: var(--fill-color);\n",
              "      border-top-color: var(--fill-color);\n",
              "      border-right-color: var(--fill-color);\n",
              "    }\n",
              "    40% {\n",
              "      border-color: transparent;\n",
              "      border-right-color: var(--fill-color);\n",
              "      border-top-color: var(--fill-color);\n",
              "    }\n",
              "    60% {\n",
              "      border-color: transparent;\n",
              "      border-right-color: var(--fill-color);\n",
              "    }\n",
              "    80% {\n",
              "      border-color: transparent;\n",
              "      border-right-color: var(--fill-color);\n",
              "      border-bottom-color: var(--fill-color);\n",
              "    }\n",
              "    90% {\n",
              "      border-color: transparent;\n",
              "      border-bottom-color: var(--fill-color);\n",
              "    }\n",
              "  }\n",
              "</style>\n",
              "\n",
              "  <script>\n",
              "    async function quickchart(key) {\n",
              "      const quickchartButtonEl =\n",
              "        document.querySelector('#' + key + ' button');\n",
              "      quickchartButtonEl.disabled = true;  // To prevent multiple clicks.\n",
              "      quickchartButtonEl.classList.add('colab-df-spinner');\n",
              "      try {\n",
              "        const charts = await google.colab.kernel.invokeFunction(\n",
              "            'suggestCharts', [key], {});\n",
              "      } catch (error) {\n",
              "        console.error('Error during call to suggestCharts:', error);\n",
              "      }\n",
              "      quickchartButtonEl.classList.remove('colab-df-spinner');\n",
              "      quickchartButtonEl.classList.add('colab-df-quickchart-complete');\n",
              "    }\n",
              "    (() => {\n",
              "      let quickchartButtonEl =\n",
              "        document.querySelector('#df-b608b308-24a5-46e9-afcc-dfff9fa94759 button');\n",
              "      quickchartButtonEl.style.display =\n",
              "        google.colab.kernel.accessAllowed ? 'block' : 'none';\n",
              "    })();\n",
              "  </script>\n",
              "</div>\n",
              "\n",
              "    </div>\n",
              "  </div>\n"
            ],
            "application/vnd.google.colaboratory.intrinsic+json": {
              "type": "dataframe",
              "variable_name": "df"
            }
          },
          "metadata": {},
          "execution_count": 73
        }
      ]
    },
    {
      "cell_type": "code",
      "source": [
        "#Define Features\n",
        "categorical_features = [\"Most Wind Direction\"]\n",
        "numerical_features = [\"Min Temperature\", \"Max Temperature\", \"Average Temperature\",\n",
        "                      \"Average Humidity\", \"Rainfall\", \"Sunshine Duration\",\n",
        "                      \"Max Wind Speed\", \"Wind Direction at Max Speed\",\n",
        "                      \"Average Wind Speed\", \"latitude\", \"longitude\",\n",
        "                      \"region_id\", \"province_id\", \"station_id\"]\n",
        "\n",
        "target_columns = [\"Min Temperature\", \"Max Temperature\", \"Average Temperature\",\n",
        "                  \"Average Humidity\", \"Rainfall\", \"Sunshine Duration\",\n",
        "                  \"Max Wind Speed\", \"Wind Direction at Max Speed\", \"Average Wind Speed\"]\n",
        "\n",
        "# 🔹 Add Date Features (Extract year, month, day, day of the week)\n",
        "df['Date'] = pd.to_datetime(df['Date'], errors='coerce')\n",
        "df['Date'] = pd.to_datetime(df['Date'])  # Ensure 'Date' column is datetime type\n",
        "df['Year'] = df['Date'].dt.year\n",
        "df['Month'] = df['Date'].dt.month\n",
        "df['Day'] = df['Date'].dt.day\n",
        "df['DayOfWeek'] = df['Date'].dt.dayofweek  # Monday=0, Sunday=6\n",
        "\n",
        "\n",
        "df[\"Most Wind Direction\"] = df[\"Most Wind Direction\"].str.strip()\n",
        "# 🔹 One-Hot Encode Categorical Features\n",
        "encoder = OneHotEncoder(sparse_output=False, handle_unknown=\"ignore\")\n",
        "encoded_cats = encoder.fit_transform(df[categorical_features])\n",
        "\n",
        "# Convert to DataFrame\n",
        "cat_df = pd.DataFrame(encoded_cats, columns=encoder.get_feature_names_out(categorical_features))\n",
        "\n",
        "# 🔹 Merge Date Features with Numerical and Categorical Features\n",
        "df_processed = pd.concat([df[numerical_features], cat_df, df[['Year', 'Month', 'Day', 'DayOfWeek']]], axis=1)\n",
        "target_processed = pd.concat([df[target_columns], cat_df], axis=1)\n",
        "\n",
        "# 🔹 Normalize Data\n",
        "scaler_X = MinMaxScaler()\n",
        "scaler_y = MinMaxScaler()\n",
        "\n",
        "X_scaled = scaler_X.fit_transform(df_processed)\n",
        "y_scaled = scaler_y.fit_transform(target_processed)\n",
        "\n",
        "\n",
        "# 🔹 Create Time-Series Data (Sliding Window) with Province, Region, and Station IDs\n",
        "def create_sequences_multi_province_region_station(X, y, province_ids, region_ids, station_ids, time_steps=7):\n",
        "    X_seq, y_seq = [], []\n",
        "\n",
        "    # Get unique combinations of province, region, and station\n",
        "    unique_combinations = np.unique(list(zip(province_ids, region_ids, station_ids)), axis=0)\n",
        "\n",
        "    for province, region, station in unique_combinations:\n",
        "        # Create mask for each combination of province, region, and station\n",
        "        mask = (province_ids == province) & (region_ids == region) & (station_ids == station)\n",
        "\n",
        "        X_station = X[mask]\n",
        "        y_station = y[mask]\n",
        "\n",
        "        # Generate sequences for this combination of province, region, and station\n",
        "        for i in range(len(X_station) - time_steps):\n",
        "            X_seq.append(X_station[i:i + time_steps])\n",
        "            y_seq.append(y_station[i + time_steps])\n",
        "\n",
        "    return np.array(X_seq), np.array(y_seq)\n",
        "\n",
        "\n",
        "\n",
        "X_seq, y_seq = create_sequences_multi_province_region_station(X_scaled, y_scaled, df['province_id'], df['region_id'], df['station_id'], time_steps=7)\n",
        "\n",
        "# ✅ Check Shapes\n",
        "print(f\"✅ Final Input Shape for LSTM: {X_reshaped.shape}\")  # (samples, 7, features)\n",
        "print(f\"✅ Final Target Shape: {y_reshaped.shape}\")  # (samples, target_features)\n"
      ],
      "metadata": {
        "colab": {
          "base_uri": "https://localhost:8080/"
        },
        "id": "Y23hyXchfeGF",
        "outputId": "3208d26f-edb2-413a-bb92-e8b2b7da5d31"
      },
      "execution_count": 75,
      "outputs": [
        {
          "output_type": "stream",
          "name": "stdout",
          "text": [
            "✅ Final Input Shape for LSTM: (730295, 7, 27)\n",
            "✅ Final Target Shape: (730295, 18)\n"
          ]
        }
      ]
    },
    {
      "cell_type": "code",
      "source": [
        "print(np.isnan(X_reshaped).sum())\n",
        "print(np.isinf(X_reshaped).sum())\n"
      ],
      "metadata": {
        "colab": {
          "base_uri": "https://localhost:8080/"
        },
        "id": "21fRJuAVfeOk",
        "outputId": "34ffde26-8e8a-453f-c6e8-df6143435381"
      },
      "execution_count": 76,
      "outputs": [
        {
          "output_type": "stream",
          "name": "stdout",
          "text": [
            "0\n",
            "0\n"
          ]
        }
      ]
    },
    {
      "cell_type": "code",
      "source": [
        "model = Sequential([\n",
        "    LSTM(64, return_sequences=True, input_shape=(7, X_reshaped.shape[2])),\n",
        "    LSTM(32, return_sequences=False),\n",
        "    Dense(16, activation=\"relu\"),\n",
        "    Dense(18)  # Changed from 9 to 18 to match target shape\n",
        "])\n",
        "\n",
        "model.compile(optimizer=\"adam\", loss=\"mse\")\n",
        "model.summary()"
      ],
      "metadata": {
        "colab": {
          "base_uri": "https://localhost:8080/",
          "height": 313
        },
        "id": "vdEJUyQKhnLp",
        "outputId": "5c1ad177-f19a-44b3-b168-9c20136d41a6"
      },
      "execution_count": 78,
      "outputs": [
        {
          "output_type": "stream",
          "name": "stderr",
          "text": [
            "/usr/local/lib/python3.11/dist-packages/keras/src/layers/rnn/rnn.py:200: UserWarning: Do not pass an `input_shape`/`input_dim` argument to a layer. When using Sequential models, prefer using an `Input(shape)` object as the first layer in the model instead.\n",
            "  super().__init__(**kwargs)\n"
          ]
        },
        {
          "output_type": "display_data",
          "data": {
            "text/plain": [
              "\u001b[1mModel: \"sequential_2\"\u001b[0m\n"
            ],
            "text/html": [
              "<pre style=\"white-space:pre;overflow-x:auto;line-height:normal;font-family:Menlo,'DejaVu Sans Mono',consolas,'Courier New',monospace\"><span style=\"font-weight: bold\">Model: \"sequential_2\"</span>\n",
              "</pre>\n"
            ]
          },
          "metadata": {}
        },
        {
          "output_type": "display_data",
          "data": {
            "text/plain": [
              "┏━━━━━━━━━━━━━━━━━━━━━━━━━━━━━━━━━┳━━━━━━━━━━━━━━━━━━━━━━━━┳━━━━━━━━━━━━━━━┓\n",
              "┃\u001b[1m \u001b[0m\u001b[1mLayer (type)                   \u001b[0m\u001b[1m \u001b[0m┃\u001b[1m \u001b[0m\u001b[1mOutput Shape          \u001b[0m\u001b[1m \u001b[0m┃\u001b[1m \u001b[0m\u001b[1m      Param #\u001b[0m\u001b[1m \u001b[0m┃\n",
              "┡━━━━━━━━━━━━━━━━━━━━━━━━━━━━━━━━━╇━━━━━━━━━━━━━━━━━━━━━━━━╇━━━━━━━━━━━━━━━┩\n",
              "│ lstm_4 (\u001b[38;5;33mLSTM\u001b[0m)                   │ (\u001b[38;5;45mNone\u001b[0m, \u001b[38;5;34m7\u001b[0m, \u001b[38;5;34m64\u001b[0m)          │        \u001b[38;5;34m23,552\u001b[0m │\n",
              "├─────────────────────────────────┼────────────────────────┼───────────────┤\n",
              "│ lstm_5 (\u001b[38;5;33mLSTM\u001b[0m)                   │ (\u001b[38;5;45mNone\u001b[0m, \u001b[38;5;34m32\u001b[0m)             │        \u001b[38;5;34m12,416\u001b[0m │\n",
              "├─────────────────────────────────┼────────────────────────┼───────────────┤\n",
              "│ dense_4 (\u001b[38;5;33mDense\u001b[0m)                 │ (\u001b[38;5;45mNone\u001b[0m, \u001b[38;5;34m16\u001b[0m)             │           \u001b[38;5;34m528\u001b[0m │\n",
              "├─────────────────────────────────┼────────────────────────┼───────────────┤\n",
              "│ dense_5 (\u001b[38;5;33mDense\u001b[0m)                 │ (\u001b[38;5;45mNone\u001b[0m, \u001b[38;5;34m18\u001b[0m)             │           \u001b[38;5;34m306\u001b[0m │\n",
              "└─────────────────────────────────┴────────────────────────┴───────────────┘\n"
            ],
            "text/html": [
              "<pre style=\"white-space:pre;overflow-x:auto;line-height:normal;font-family:Menlo,'DejaVu Sans Mono',consolas,'Courier New',monospace\">┏━━━━━━━━━━━━━━━━━━━━━━━━━━━━━━━━━┳━━━━━━━━━━━━━━━━━━━━━━━━┳━━━━━━━━━━━━━━━┓\n",
              "┃<span style=\"font-weight: bold\"> Layer (type)                    </span>┃<span style=\"font-weight: bold\"> Output Shape           </span>┃<span style=\"font-weight: bold\">       Param # </span>┃\n",
              "┡━━━━━━━━━━━━━━━━━━━━━━━━━━━━━━━━━╇━━━━━━━━━━━━━━━━━━━━━━━━╇━━━━━━━━━━━━━━━┩\n",
              "│ lstm_4 (<span style=\"color: #0087ff; text-decoration-color: #0087ff\">LSTM</span>)                   │ (<span style=\"color: #00d7ff; text-decoration-color: #00d7ff\">None</span>, <span style=\"color: #00af00; text-decoration-color: #00af00\">7</span>, <span style=\"color: #00af00; text-decoration-color: #00af00\">64</span>)          │        <span style=\"color: #00af00; text-decoration-color: #00af00\">23,552</span> │\n",
              "├─────────────────────────────────┼────────────────────────┼───────────────┤\n",
              "│ lstm_5 (<span style=\"color: #0087ff; text-decoration-color: #0087ff\">LSTM</span>)                   │ (<span style=\"color: #00d7ff; text-decoration-color: #00d7ff\">None</span>, <span style=\"color: #00af00; text-decoration-color: #00af00\">32</span>)             │        <span style=\"color: #00af00; text-decoration-color: #00af00\">12,416</span> │\n",
              "├─────────────────────────────────┼────────────────────────┼───────────────┤\n",
              "│ dense_4 (<span style=\"color: #0087ff; text-decoration-color: #0087ff\">Dense</span>)                 │ (<span style=\"color: #00d7ff; text-decoration-color: #00d7ff\">None</span>, <span style=\"color: #00af00; text-decoration-color: #00af00\">16</span>)             │           <span style=\"color: #00af00; text-decoration-color: #00af00\">528</span> │\n",
              "├─────────────────────────────────┼────────────────────────┼───────────────┤\n",
              "│ dense_5 (<span style=\"color: #0087ff; text-decoration-color: #0087ff\">Dense</span>)                 │ (<span style=\"color: #00d7ff; text-decoration-color: #00d7ff\">None</span>, <span style=\"color: #00af00; text-decoration-color: #00af00\">18</span>)             │           <span style=\"color: #00af00; text-decoration-color: #00af00\">306</span> │\n",
              "└─────────────────────────────────┴────────────────────────┴───────────────┘\n",
              "</pre>\n"
            ]
          },
          "metadata": {}
        },
        {
          "output_type": "display_data",
          "data": {
            "text/plain": [
              "\u001b[1m Total params: \u001b[0m\u001b[38;5;34m36,802\u001b[0m (143.76 KB)\n"
            ],
            "text/html": [
              "<pre style=\"white-space:pre;overflow-x:auto;line-height:normal;font-family:Menlo,'DejaVu Sans Mono',consolas,'Courier New',monospace\"><span style=\"font-weight: bold\"> Total params: </span><span style=\"color: #00af00; text-decoration-color: #00af00\">36,802</span> (143.76 KB)\n",
              "</pre>\n"
            ]
          },
          "metadata": {}
        },
        {
          "output_type": "display_data",
          "data": {
            "text/plain": [
              "\u001b[1m Trainable params: \u001b[0m\u001b[38;5;34m36,802\u001b[0m (143.76 KB)\n"
            ],
            "text/html": [
              "<pre style=\"white-space:pre;overflow-x:auto;line-height:normal;font-family:Menlo,'DejaVu Sans Mono',consolas,'Courier New',monospace\"><span style=\"font-weight: bold\"> Trainable params: </span><span style=\"color: #00af00; text-decoration-color: #00af00\">36,802</span> (143.76 KB)\n",
              "</pre>\n"
            ]
          },
          "metadata": {}
        },
        {
          "output_type": "display_data",
          "data": {
            "text/plain": [
              "\u001b[1m Non-trainable params: \u001b[0m\u001b[38;5;34m0\u001b[0m (0.00 B)\n"
            ],
            "text/html": [
              "<pre style=\"white-space:pre;overflow-x:auto;line-height:normal;font-family:Menlo,'DejaVu Sans Mono',consolas,'Courier New',monospace\"><span style=\"font-weight: bold\"> Non-trainable params: </span><span style=\"color: #00af00; text-decoration-color: #00af00\">0</span> (0.00 B)\n",
              "</pre>\n"
            ]
          },
          "metadata": {}
        }
      ]
    },
    {
      "cell_type": "code",
      "source": [
        "# 🔹 Train Model\n",
        "history = model.fit(X_reshaped, y_reshaped, epochs=10, batch_size=32, validation_split=0.2)"
      ],
      "metadata": {
        "colab": {
          "base_uri": "https://localhost:8080/"
        },
        "id": "uJAZDKnuk5E7",
        "outputId": "4315a4ee-b7cc-4a51-bbce-38cf39cec8d8"
      },
      "execution_count": 79,
      "outputs": [
        {
          "output_type": "stream",
          "name": "stdout",
          "text": [
            "Epoch 1/10\n",
            "\u001b[1m18258/18258\u001b[0m \u001b[32m━━━━━━━━━━━━━━━━━━━━\u001b[0m\u001b[37m\u001b[0m \u001b[1m194s\u001b[0m 10ms/step - loss: 0.0468 - val_loss: 0.0437\n",
            "Epoch 2/10\n",
            "\u001b[1m18258/18258\u001b[0m \u001b[32m━━━━━━━━━━━━━━━━━━━━\u001b[0m\u001b[37m\u001b[0m \u001b[1m209s\u001b[0m 11ms/step - loss: 0.0425 - val_loss: 0.0436\n",
            "Epoch 3/10\n",
            "\u001b[1m18258/18258\u001b[0m \u001b[32m━━━━━━━━━━━━━━━━━━━━\u001b[0m\u001b[37m\u001b[0m \u001b[1m218s\u001b[0m 12ms/step - loss: 0.0423 - val_loss: 0.0437\n",
            "Epoch 4/10\n",
            "\u001b[1m18258/18258\u001b[0m \u001b[32m━━━━━━━━━━━━━━━━━━━━\u001b[0m\u001b[37m\u001b[0m \u001b[1m207s\u001b[0m 11ms/step - loss: 0.0421 - val_loss: 0.0435\n",
            "Epoch 5/10\n",
            "\u001b[1m18258/18258\u001b[0m \u001b[32m━━━━━━━━━━━━━━━━━━━━\u001b[0m\u001b[37m\u001b[0m \u001b[1m256s\u001b[0m 11ms/step - loss: 0.0420 - val_loss: 0.0436\n",
            "Epoch 6/10\n",
            "\u001b[1m18258/18258\u001b[0m \u001b[32m━━━━━━━━━━━━━━━━━━━━\u001b[0m\u001b[37m\u001b[0m \u001b[1m204s\u001b[0m 11ms/step - loss: 0.0419 - val_loss: 0.0436\n",
            "Epoch 7/10\n",
            "\u001b[1m18258/18258\u001b[0m \u001b[32m━━━━━━━━━━━━━━━━━━━━\u001b[0m\u001b[37m\u001b[0m \u001b[1m265s\u001b[0m 11ms/step - loss: 0.0418 - val_loss: 0.0438\n",
            "Epoch 8/10\n",
            "\u001b[1m18258/18258\u001b[0m \u001b[32m━━━━━━━━━━━━━━━━━━━━\u001b[0m\u001b[37m\u001b[0m \u001b[1m260s\u001b[0m 11ms/step - loss: 0.0418 - val_loss: 0.0437\n",
            "Epoch 9/10\n",
            "\u001b[1m18258/18258\u001b[0m \u001b[32m━━━━━━━━━━━━━━━━━━━━\u001b[0m\u001b[37m\u001b[0m \u001b[1m246s\u001b[0m 10ms/step - loss: 0.0417 - val_loss: 0.0442\n",
            "Epoch 10/10\n",
            "\u001b[1m18258/18258\u001b[0m \u001b[32m━━━━━━━━━━━━━━━━━━━━\u001b[0m\u001b[37m\u001b[0m \u001b[1m210s\u001b[0m 11ms/step - loss: 0.0417 - val_loss: 0.0443\n"
          ]
        }
      ]
    },
    {
      "cell_type": "code",
      "source": [
        "import joblib\n",
        "# 🔹 Save Model and Preprocessing Objects\n",
        "model.save(\"weather_forecasting_model2.h5\")  # Save LSTM Model\n",
        "joblib.dump(scaler_X, \"scaler_X2.pkl\")  # Save Scaler for Features\n",
        "joblib.dump(scaler_y, \"scaler_y2.pkl\")  # Save Scaler for Target\n",
        "joblib.dump(encoder, \"encoder2.pkl\")  # Save One-Hot Encoder\n",
        "\n",
        "print(\"✅ Model and preprocessing objects saved successfully!\")"
      ],
      "metadata": {
        "colab": {
          "base_uri": "https://localhost:8080/"
        },
        "id": "RXQ_3pQck7vs",
        "outputId": "864cdbd3-e59b-482c-c751-dd61eea5510e"
      },
      "execution_count": 80,
      "outputs": [
        {
          "output_type": "stream",
          "name": "stderr",
          "text": [
            "WARNING:absl:You are saving your model as an HDF5 file via `model.save()` or `keras.saving.save_model(model)`. This file format is considered legacy. We recommend using instead the native Keras format, e.g. `model.save('my_model.keras')` or `keras.saving.save_model(model, 'my_model.keras')`. \n"
          ]
        },
        {
          "output_type": "stream",
          "name": "stdout",
          "text": [
            "✅ Model and preprocessing objects saved successfully!\n"
          ]
        }
      ]
    },
    {
      "cell_type": "code",
      "source": [],
      "metadata": {
        "id": "acaW8Sc40RJk"
      },
      "execution_count": null,
      "outputs": []
    }
  ]
}